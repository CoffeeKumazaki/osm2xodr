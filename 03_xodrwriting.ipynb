{
 "cells": [
  {
   "cell_type": "code",
   "execution_count": 1,
   "metadata": {
    "ExecuteTime": {
     "end_time": "2020-03-10T12:43:03.444532Z",
     "start_time": "2020-03-10T12:43:03.442151Z"
    }
   },
   "outputs": [],
   "source": [
    "#default_exp xodrWriting"
   ]
  },
  {
   "cell_type": "code",
   "execution_count": 2,
   "metadata": {
    "ExecuteTime": {
     "end_time": "2020-03-10T12:43:03.829628Z",
     "start_time": "2020-03-10T12:43:03.819130Z"
    }
   },
   "outputs": [],
   "source": [
    "%load_ext autoreload\n",
    "%autoreload 2"
   ]
  },
  {
   "cell_type": "code",
   "execution_count": 3,
   "metadata": {
    "ExecuteTime": {
     "end_time": "2020-03-10T12:44:10.216363Z",
     "start_time": "2020-03-10T12:44:10.206256Z"
    }
   },
   "outputs": [],
   "source": [
    "#export xodrWriting\n",
    "from math import floor, pi\n",
    "import numpy as np\n",
    "from osm2xods.utils import giveHeading, distance,schnittpunkt,getXYPositionFromLineLength\n",
    "from osm2xods.arcCurves import giveHeading,getArcEndposition,distance,schnittpunkt,getArcCurvatureAndLength,getXYPositionFromLineLength,getArcCurvatureAndLength2Point,endTurn2LaneStreet\n",
    "from osm2xods.osmParsing import parseAll,rNode, OSMWay,JunctionRoad, OSMWayEndcap, createOSMJunctionRoadLine, createOSMWayNodeList2XODRRoadLine, JunctionRoad, createEndCap\n",
    "#from osm2xods.testing import TestEntity, _test_nodes, testSimpleRoad, test_3WayTCrossing2"
   ]
  },
  {
   "cell_type": "code",
   "execution_count": null,
   "metadata": {
    "ExecuteTime": {
     "end_time": "2020-03-10T09:13:31.797032Z",
     "start_time": "2020-03-10T09:13:31.004670Z"
    }
   },
   "outputs": [],
   "source": [
    "osmPfad = '/home/jhm/Downloads/campusFreudenbergEinheitlich.osm'\n",
    "topographieKartenPfad = '/home/jhm/Downloads/campusTerrain.png'\n",
    "\n",
    "parseAll(osmPfad, bildpfad=topographieKartenPfad, minimumHeight = 163.0, maximumHeight= 192.0, curveRadius=6)\n"
   ]
  },
  {
   "cell_type": "code",
   "execution_count": null,
   "metadata": {
    "ExecuteTime": {
     "end_time": "2020-03-09T14:50:10.301782Z",
     "start_time": "2020-03-09T14:50:10.293321Z"
    }
   },
   "outputs": [],
   "source": [
    "#<!-- xml-comment -->"
   ]
  },
  {
   "cell_type": "code",
   "execution_count": 4,
   "metadata": {
    "ExecuteTime": {
     "end_time": "2020-03-10T12:44:17.321218Z",
     "start_time": "2020-03-10T12:44:17.313563Z"
    }
   },
   "outputs": [],
   "source": [
    "#export xodrWriting\n",
    "def startBasicXODRFile(path = '/home/jhm/Downloads/Test.xodr'):\n",
    "    with open(path,'w') as f:\n",
    "        f.write('''<?xml version=\"1.0\" encoding=\"UTF-8\"?>\n",
    "<OpenDRIVE>\n",
    "    <header revMajor=\"1\" revMinor=\"4\" name=\"\" version=\"1\" date=\"2019-02-18T13:36:12\" north=\"0.0000000000000000e+00\" south=\"0.0000000000000000e+00\" east=\"0.0000000000000000e+00\" west=\"0.0000000000000000e+00\">\n",
    "    </header>\n",
    "    <!-- Roads -->\n",
    "    <!-- nextRoad -->\n",
    "    <!-- Junctions -->\n",
    "    <!-- nextJunction -->\n",
    "</OpenDRIVE>\n",
    "    ''')"
   ]
  },
  {
   "cell_type": "code",
   "execution_count": null,
   "metadata": {
    "ExecuteTime": {
     "end_time": "2020-03-09T17:31:45.362794Z",
     "start_time": "2020-03-09T17:31:45.353569Z"
    }
   },
   "outputs": [],
   "source": [
    "startBasicXODRFile()"
   ]
  },
  {
   "cell_type": "code",
   "execution_count": 8,
   "metadata": {
    "ExecuteTime": {
     "end_time": "2020-03-10T12:51:08.287197Z",
     "start_time": "2020-03-10T12:51:08.269615Z"
    },
    "run_control": {
     "marked": false
    }
   },
   "outputs": [],
   "source": [
    "#export xodrWriting\n",
    "def fillNormalRoads(path = '/home/jhm/Downloads/Test.xodr'):\n",
    "    filedata = \"\"\n",
    "    with open(path, 'r') as file:\n",
    "          filedata = file.read()\n",
    "    parts = filedata.split(\"<!-- nextRoad -->\")\n",
    "    for road in OSMWay.allWays.values():\n",
    "        # create geometry\n",
    "        geometry = \"\"\n",
    "        lengths = []\n",
    "        for element in road.roadElements:\n",
    "            lengths.append(element[\"length\"])\n",
    "            geometry += '''\n",
    "            <geometry s=\"{0}\" x=\"{1}\" y=\"{2}\" hdg=\"{3}\" length=\"{4}\">'''.format(sum(lengths[:-1]), element[\"xstart\"],\n",
    "                                                                               element[\"ystart\"], element[\"heading\"],\n",
    "                                                                               element[\"length\"])+('''\n",
    "                <line/>''' if element[\"curvature\"] == 0.0 else '''\n",
    "                <arc curvature=\"{0}\"/>'''.format(element[\"curvature\"])) + '''\n",
    "            </geometry>'''\n",
    "        lengths = []\n",
    "        elevation = \"\"\n",
    "        # create elevation\n",
    "        for element in road.elevationElements:\n",
    "            lengths.append(element[\"length\"])\n",
    "            elevation += '''\n",
    "            <elevation s=\"{0}\" a=\"{1}\" b=\"{2}\" c=\"0.0\" d=\"0.0\"/>'''.format(sum(lengths[:-1]),element[\"zstart\"], element[\"steigung\"])\n",
    "        \n",
    "        name = \"Road \"+ str(road.xodrID)\n",
    "        try: name = road.tags[\"name\"]\n",
    "        except: pass\n",
    "        maxspeed = \"30\"\n",
    "        try: maxspeed = road.tags[\"maxspeed\"]\n",
    "        except: pass\n",
    "        #add road string\n",
    "        leftlanes = \"\"\n",
    "        leftlanenumber = 1\n",
    "        for i in range(road.laneNumberOpposite):\n",
    "            leftlanes += '''\n",
    "                        <lane id=\"{0}\" type=\"driving\" level=\"false\">\n",
    "                                        <link>\n",
    "                                        </link>\n",
    "                                        <width sOffset=\"0.0\" a=\"4.00e+00\" b=\"0.0\" c=\"0.00\" d=\"0.00\"/>\n",
    "                                        <roadMark sOffset=\"0.00\" type=\"{1}\" material=\"standard\" color=\"white\" laneChange=\"none\"/>\n",
    "                        </lane>'''.format(leftlanenumber, \"solid\" if leftlanenumber == road.laneNumberOpposite else \"broken\")\n",
    "            leftlanenumber += 1\n",
    "        rightlanes = \"\"\n",
    "        rightlanenumber = -1\n",
    "        for i in range(road.laneNumberDirection):\n",
    "            rightlanes += '''\n",
    "                        <lane id=\"{0}\" type=\"driving\" level=\"false\">\n",
    "                                        <link>\n",
    "                                        </link>\n",
    "                                        <width sOffset=\"0.0\" a=\"4.00e+00\" b=\"0.0\" c=\"0.00\" d=\"0.00\"/>\n",
    "                                        <roadMark sOffset=\"0.00\" type=\"{1}\" material=\"standard\" color=\"white\" laneChange=\"none\"/>\n",
    "                        </lane>'''.format(rightlanenumber, \"solid\" if rightlanenumber == -road.laneNumberDirection else \"broken\")\n",
    "            rightlanenumber -= 1\n",
    "        \n",
    "        parts[0] +='''\n",
    "        <road name=\"{0}\" length=\"{1}\" id=\"{2}\" junction=\"-1\">\n",
    "            <link>\n",
    "                <predecessor elementType=\"junction\" elementId=\"{3}\"/>\n",
    "                <successor elementType=\"junction\" elementId=\"{4}\"/>\n",
    "            </link>'''.format(name, sum(lengths), road.xodrID, road.startJunction, road.endJunction)+'''\n",
    "        <type s=\"0.0\" type=\"town\">\n",
    "             <speed max=\"{0}\" unit=\"mph\"/>\n",
    "        </type>\n",
    "             <planView>'''.format(maxspeed) + geometry +'''\n",
    "             </planView>\n",
    "             \n",
    "        <elevationProfile>''' + elevation + '''\n",
    "        </elevationProfile>\n",
    "             <lanes>\n",
    "                <laneOffset s=\"0.0\" a=\"0.0\" b=\"0.0\" c=\"0.0\" d=\"0.0\"/>\n",
    "                <laneSection s=\"0.0\">\n",
    "                    <left>'''+leftlanes+'''                        \n",
    "                    </left>\n",
    "                    <center>\n",
    "                        <lane id=\"0\" type=\"none\" level=\"false\">\n",
    "                            <roadMark sOffset=\"0.00\" type=\"{0}\" material=\"standard\" color=\"white\" width=\"1.2500000000000000e-1\" laneChange=\"none\"/>\n",
    "                        </lane>\n",
    "                    </center>\n",
    "                    <right>'''.format(\"broken\" if (road.laneNumberOpposite == 1 and road.laneNumberDirection == 1) else \"solid\")+rightlanes+'''\n",
    "                    </right>\n",
    "                </laneSection>\n",
    "            </lanes>\n",
    "        </road>\n",
    "        '''\n",
    "    with open(path,'w') as f:\n",
    "        f.write(\"<!-- nextRoad -->\".join(parts))                                                                 "
   ]
  },
  {
   "cell_type": "code",
   "execution_count": null,
   "metadata": {
    "ExecuteTime": {
     "end_time": "2020-03-09T17:31:47.866430Z",
     "start_time": "2020-03-09T17:31:47.856822Z"
    }
   },
   "outputs": [],
   "source": [
    "fillNormalRoads()"
   ]
  },
  {
   "cell_type": "code",
   "execution_count": 9,
   "metadata": {
    "ExecuteTime": {
     "end_time": "2020-03-10T12:51:10.767575Z",
     "start_time": "2020-03-10T12:51:10.749864Z"
    }
   },
   "outputs": [],
   "source": [
    "#export xodrWriting\n",
    "def fillJunctionRoads(path = '/home/jhm/Downloads/Test.xodr'):\n",
    "    filedata = \"\"\n",
    "    with open(path, 'r') as file:\n",
    "          filedata = file.read()\n",
    "    parts = filedata.split(\"<!-- nextRoad -->\")\n",
    "    secondsplits = parts[1].split(\"<!-- nextJunction -->\")\n",
    "    parts[1] = secondsplits[0]\n",
    "    parts.append(secondsplits[1])\n",
    "    for junction in JunctionRoad.junctionNodes.keys():\n",
    "        # create junction start\n",
    "        parts[1] += '''\n",
    "        <junction id=\"{0}\" name=\"{1}\">'''.format(str(junction),\"junction \"+str(junction))\n",
    "        connectionID = 1\n",
    "        for roadkey in JunctionRoad.junctionNodes[junction].keys():\n",
    "            incomingRoad,outgoingRoad = roadkey.split(\"_to_\")\n",
    "            for lanekey in JunctionRoad.junctionNodes[junction][roadkey].keys():\n",
    "                    fromLane,toLane = lanekey.split(\"_to_\")\n",
    "                    road = JunctionRoad.junctionNodes[junction][roadkey][lanekey]\n",
    "                    #create connection\n",
    "                    parts[1] += '''\n",
    "                    <connection id=\"{0}\" incomingRoad=\"{1}\" connectingRoad=\"{2}\" contactPoint=\"{3}\">\n",
    "                        <laneLink from=\"{4}\" to=\"{5}\"/>\n",
    "                    </connection>'''.format(connectionID, incomingRoad, road.xodrID, \"start\",\n",
    "                                           fromLane, \"-1\")\n",
    "                    connectionID +=1\n",
    "                    \n",
    "                    #create road\n",
    "                    geometry = \"\"\n",
    "                    lengths = []\n",
    "                    for element in road.roadElements:\n",
    "                        lengths.append(element[\"length\"])\n",
    "                        geometry += '''\n",
    "                        <geometry s=\"{0}\" x=\"{1}\" y=\"{2}\" hdg=\"{3}\" length=\"{4}\">'''.format(sum(lengths[:-1]), element[\"xstart\"],\n",
    "                                                                                           element[\"ystart\"], element[\"heading\"],\n",
    "                                                                                           element[\"length\"])+('''\n",
    "                            <line/>''' if element[\"curvature\"] == 0.0 else '''\n",
    "                            <arc curvature=\"{0}\"/>'''.format(element[\"curvature\"])) + '''\n",
    "                        </geometry>'''\n",
    "                    lengths = []\n",
    "                    elevation = \"\"\n",
    "                    # create elevation\n",
    "                    for element in road.elevationElements:\n",
    "                        lengths.append(element[\"length\"])\n",
    "                        elevation += '''\n",
    "                        <elevation s=\"{0}\" a=\"{1}\" b=\"{2}\" c=\"0.0\" d=\"0.0\"/>'''.format(sum(lengths[:-1]),element[\"zstart\"], element[\"steigung\"])\n",
    "\n",
    "                    name = \"JunctionConnection \"+ roadkey + \" lane \"+lanekey\n",
    "                    maxspeed = \"30\"\n",
    "                    parts[0] +='''\n",
    "        <road name=\"{0}\" length=\"{1}\" id=\"{2}\" junction=\"{3}\">\n",
    "            <link>\n",
    "                <predecessor elementType=\"road\" elementId=\"{4}\" contactPoint=\"{6}\"/>\n",
    "                <successor elementType=\"road\" elementId=\"{5}\" contactPoint=\"{7}\"/>\n",
    "            </link>'''.format(name, sum(lengths), road.xodrID, junction, incomingRoad, outgoingRoad,\n",
    "                             road.contactPointPredecessor, road.contactPointSuccessor)+'''\n",
    "        <type s=\"0.0\" type=\"town\">\n",
    "             <speed max=\"{0}\" unit=\"mph\"/>\n",
    "        </type>\n",
    "             <planView>'''.format(maxspeed) + geometry +'''\n",
    "             </planView>\n",
    "             \n",
    "        <elevationProfile>''' + elevation + '''\n",
    "        </elevationProfile>\n",
    "             <lanes>\n",
    "                <laneOffset s=\"0.0\" a=\"{0}\" b=\"{1}\" c=\"0.0\" d=\"0.0\"/>'''.format(road.laneOffsetA, road.laneOffsetB) + '''\n",
    "                <laneSection s=\"0.0\">\n",
    "                     <center>\n",
    "                        <lane id=\"0\" type=\"none\" level=\"false\">\n",
    "                            <roadMark sOffset=\"0.0000000000000000e+0\" type=\"none\" material=\"standard\" color=\"yellow\" width=\"1.2500000000000000e-1\" laneChange=\"none\"/>\n",
    "                        </lane>\n",
    "                    </center>\n",
    "                    <right>\n",
    "                        <lane id=\"-1\" type=\"driving\" level=\"false\">\n",
    "                            <link>\n",
    "                                <predecessor id=\"{0}\"/>\n",
    "                                <successor id=\"{1}\"/>\n",
    "                            </link>\n",
    "                            <width sOffset=\"0.0\" a=\"4.00e+00\" b=\"0.0\" c=\"0.00\" d=\"0.00\"/>\n",
    "                            <roadMark sOffset=\"0.00\" type=\"none\" material=\"standard\" color=\"white\" laneChange=\"none\"/>\n",
    "                        </lane>\n",
    "                    </right>\n",
    "                </laneSection>\n",
    "            </lanes>\n",
    "        </road>\n",
    "        '''.format(fromLane,toLane)\n",
    "        #close junction     \n",
    "        parts[1] += '''\n",
    "        </junction>\n",
    "        '''\n",
    "    parts[0] = \"<!-- nextRoad -->\".join([parts[0],parts[1]])\n",
    "    whole = \"<!-- nextJunction -->\".join([parts[0],parts[2]])\n",
    "        \n",
    "    with open(path,'w') as f:\n",
    "            f.write(whole)                                                                 "
   ]
  },
  {
   "cell_type": "code",
   "execution_count": null,
   "metadata": {
    "ExecuteTime": {
     "end_time": "2020-03-09T17:31:49.169402Z",
     "start_time": "2020-03-09T17:31:49.159625Z"
    }
   },
   "outputs": [],
   "source": [
    "fillJunctionRoads()"
   ]
  },
  {
   "cell_type": "code",
   "execution_count": 7,
   "metadata": {
    "ExecuteTime": {
     "end_time": "2020-03-10T12:44:27.345520Z",
     "start_time": "2020-03-10T12:44:26.597223Z"
    }
   },
   "outputs": [
    {
     "name": "stdout",
     "output_type": "stream",
     "text": [
      "minlon = 7.1584828,minlat= 51.2377326,maxlon = 7.1652904,maxlat = 51.2406203\n"
     ]
    }
   ],
   "source": [
    "from math import floor, pi\n",
    "import numpy as np\n",
    "from osm2xods.utils import giveHeading, distance,schnittpunkt,getXYPositionFromLineLength, getPositiveHeading,getDeltaHdg\n",
    "from osm2xods.arcCurves import giveHeading,getArcEndposition,distance,schnittpunkt,getArcCurvatureAndLength,getXYPositionFromLineLength,getArcCurvatureAndLength2Point,endTurn2LaneStreet\n",
    "from osm2xods.testing import TestEntity, _test_nodes, testSimpleRoad, test_3WayTCrossing2\n",
    "from osm2xods.osmParsing import parseAll,rNode, OSMWay,JunctionRoad, OSMWayEndcap, createOSMJunctionRoadLine, createOSMWayNodeList2XODRRoadLine\n",
    "\n",
    "\n",
    "osmPfad = '/home/jhm/Downloads/campusFreudenbergEinheitlich.osm'\n",
    "topographieKartenPfad = '/home/jhm/Downloads/campusTerrain.png'\n",
    "\n",
    "parseAll(osmPfad, bildpfad=topographieKartenPfad, minimumHeight = 163.0, maximumHeight= 192.0, curveRadius=6)\n",
    "startBasicXODRFile()\n",
    "fillNormalRoads()\n",
    "fillJunctionRoads()\n",
    "\n",
    "#test_3WayTCrossing2()\n",
    "#testSimpleRoad()\n"
   ]
  },
  {
   "cell_type": "code",
   "execution_count": 10,
   "metadata": {
    "ExecuteTime": {
     "end_time": "2020-03-10T12:51:28.107427Z",
     "start_time": "2020-03-10T12:51:28.086050Z"
    }
   },
   "outputs": [],
   "source": [
    "startBasicXODRFile()\n",
    "fillNormalRoads()\n",
    "fillJunctionRoads()"
   ]
  },
  {
   "cell_type": "code",
   "execution_count": null,
   "metadata": {},
   "outputs": [],
   "source": []
  }
 ],
 "metadata": {
  "kernelspec": {
   "display_name": "Python 3",
   "language": "python",
   "name": "python3"
  },
  "language_info": {
   "codemirror_mode": {
    "name": "ipython",
    "version": 3
   },
   "file_extension": ".py",
   "mimetype": "text/x-python",
   "name": "python",
   "nbconvert_exporter": "python",
   "pygments_lexer": "ipython3",
   "version": "3.6.9"
  },
  "latex_envs": {
   "LaTeX_envs_menu_present": true,
   "autoclose": false,
   "autocomplete": true,
   "bibliofile": "biblio.bib",
   "cite_by": "apalike",
   "current_citInitial": 1,
   "eqLabelWithNumbers": true,
   "eqNumInitial": 1,
   "hotkeys": {
    "equation": "Ctrl-E",
    "itemize": "Ctrl-I"
   },
   "labels_anchors": false,
   "latex_user_defs": false,
   "report_style_numbering": false,
   "user_envs_cfg": false
  },
  "toc": {
   "base_numbering": 1,
   "nav_menu": {},
   "number_sections": true,
   "sideBar": true,
   "skip_h1_title": false,
   "title_cell": "Table of Contents",
   "title_sidebar": "Contents",
   "toc_cell": false,
   "toc_position": {},
   "toc_section_display": true,
   "toc_window_display": false
  }
 },
 "nbformat": 4,
 "nbformat_minor": 2
}
