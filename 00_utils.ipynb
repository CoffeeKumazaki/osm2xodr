{
 "cells": [
  {
   "cell_type": "code",
   "execution_count": 1,
   "metadata": {
    "ExecuteTime": {
     "end_time": "2020-03-04T10:01:59.826109Z",
     "start_time": "2020-03-04T10:01:59.823243Z"
    }
   },
   "outputs": [],
   "source": [
    "#default_exp utils"
   ]
  },
  {
   "cell_type": "code",
   "execution_count": 9,
   "metadata": {
    "ExecuteTime": {
     "end_time": "2020-03-06T14:14:21.800815Z",
     "start_time": "2020-03-06T14:14:21.717117Z"
    }
   },
   "outputs": [],
   "source": [
    "#export utils\n",
    "import numpy as np\n",
    "from pyproj import CRS, Transformer\n",
    "from PIL import Image\n",
    "from osmread import parse_file, Way, Node\n",
    "\n",
    "\n",
    "crs_4326  = CRS.from_epsg(4326) # epsg 4326 is wgs84\n",
    "crs_25832  = CRS.from_epsg(25832) # epsg 25832 is etrs89\n",
    "transformer = Transformer.from_crs(crs_4326, crs_25832)\n"
   ]
  },
  {
   "cell_type": "code",
   "execution_count": 10,
   "metadata": {
    "ExecuteTime": {
     "end_time": "2020-03-06T14:14:21.943882Z",
     "start_time": "2020-03-06T14:14:21.939337Z"
    }
   },
   "outputs": [],
   "source": [
    "#export utils\n",
    "def giveHeading(x1,y1,x2,y2):\n",
    "        assert not (x1==x2 and y1==y2), \"Can't give heading without a direction\"\n",
    "        x = [x1,x2]\n",
    "        y = [y1,y2]\n",
    "        x_arr=np.array(x)-x[0]\n",
    "        y_arr=np.array(y)-y[0]\n",
    "        #rotate to initial approximately 0\n",
    "        #umrechnen in polarkoordinaten des ersten abstandes\n",
    "        if x_arr[1] > 0:\n",
    "                    phi = np.arctan(y_arr[1]/x_arr[1])\n",
    "        elif x_arr[1] == 0:\n",
    "                    if y_arr[1] > 0:\n",
    "                            phi = np.pi/2\n",
    "                    else:\n",
    "                            phi = -np.pi/2\n",
    "        else:\n",
    "                    if y_arr[1] >= 0:\n",
    "                            phi = np.arctan(y_arr[1]/x_arr[1])+np.pi\n",
    "                    else:\n",
    "                            phi = np.arctan(y_arr[1]/x_arr[1])-np.pi\n",
    "        return getPositiveHeading(phi)\n"
   ]
  },
  {
   "cell_type": "code",
   "execution_count": 11,
   "metadata": {
    "ExecuteTime": {
     "end_time": "2020-03-06T14:14:22.146800Z",
     "start_time": "2020-03-06T14:14:22.139951Z"
    }
   },
   "outputs": [
    {
     "name": "stdout",
     "output_type": "stream",
     "text": [
      "realhdg = -3.2, calc = 3.083185307179586\n",
      "realhdg = -3.1, calc = -3.1\n",
      "realhdg = -3.0, calc = -3.0\n",
      "realhdg = -2.9, calc = -2.9\n",
      "realhdg = -2.8, calc = -2.8\n",
      "realhdg = -2.6999999999999997, calc = -2.6999999999999997\n",
      "realhdg = -2.5999999999999996, calc = -2.5999999999999996\n",
      "realhdg = -2.4999999999999996, calc = -2.4999999999999996\n",
      "realhdg = -2.3999999999999995, calc = -2.3999999999999995\n",
      "realhdg = -2.2999999999999994, calc = -2.2999999999999994\n",
      "realhdg = -2.1999999999999993, calc = -2.1999999999999993\n",
      "realhdg = -2.099999999999999, calc = -2.099999999999999\n",
      "realhdg = -1.9999999999999991, calc = -1.999999999999999\n",
      "realhdg = -1.899999999999999, calc = -1.8999999999999988\n",
      "realhdg = -1.799999999999999, calc = -1.799999999999999\n",
      "realhdg = -1.6999999999999988, calc = -1.6999999999999986\n",
      "realhdg = -1.5999999999999988, calc = -1.5999999999999985\n",
      "realhdg = -1.4999999999999987, calc = -1.4999999999999987\n",
      "realhdg = -1.3999999999999986, calc = -1.3999999999999986\n",
      "realhdg = -1.2999999999999985, calc = -1.2999999999999985\n",
      "realhdg = -1.1999999999999984, calc = -1.1999999999999984\n",
      "realhdg = -1.0999999999999983, calc = -1.0999999999999983\n",
      "realhdg = -0.9999999999999982, calc = -0.9999999999999982\n",
      "realhdg = -0.8999999999999981, calc = -0.8999999999999981\n",
      "realhdg = -0.799999999999998, calc = -0.799999999999998\n",
      "realhdg = -0.699999999999998, calc = -0.699999999999998\n",
      "realhdg = -0.5999999999999979, calc = -0.5999999999999979\n",
      "realhdg = -0.4999999999999978, calc = -0.49999999999999784\n",
      "realhdg = -0.3999999999999977, calc = -0.39999999999999764\n",
      "realhdg = -0.2999999999999976, calc = -0.29999999999999766\n",
      "realhdg = -0.1999999999999975, calc = -0.1999999999999975\n",
      "realhdg = -0.09999999999999742, calc = -0.09999999999999742\n",
      "realhdg = 2.6645352591003757e-15, calc = 2.6645352591003757e-15\n",
      "realhdg = 0.10000000000000275, calc = 0.10000000000000274\n",
      "realhdg = 0.20000000000000284, calc = 0.20000000000000284\n",
      "realhdg = 0.30000000000000293, calc = 0.3000000000000029\n",
      "realhdg = 0.400000000000003, calc = 0.400000000000003\n",
      "realhdg = 0.5000000000000031, calc = 0.5000000000000031\n",
      "realhdg = 0.6000000000000032, calc = 0.6000000000000032\n",
      "realhdg = 0.7000000000000033, calc = 0.7000000000000034\n",
      "realhdg = 0.8000000000000034, calc = 0.8000000000000034\n",
      "realhdg = 0.900000000000003, calc = 0.9000000000000029\n",
      "realhdg = 1.0000000000000036, calc = 1.0000000000000036\n",
      "realhdg = 1.100000000000004, calc = 1.100000000000004\n",
      "realhdg = 1.2000000000000037, calc = 1.2000000000000037\n",
      "realhdg = 1.3000000000000034, calc = 1.3000000000000034\n",
      "realhdg = 1.400000000000004, calc = 1.400000000000004\n",
      "realhdg = 1.5000000000000044, calc = 1.5000000000000044\n",
      "realhdg = 1.600000000000004, calc = 1.6000000000000039\n",
      "realhdg = 1.7000000000000037, calc = 1.7000000000000035\n",
      "realhdg = 1.8000000000000043, calc = 1.8000000000000043\n",
      "realhdg = 1.9000000000000048, calc = 1.9000000000000048\n",
      "realhdg = 2.0000000000000044, calc = 2.0000000000000044\n",
      "realhdg = 2.100000000000004, calc = 2.100000000000004\n",
      "realhdg = 2.2000000000000046, calc = 2.2000000000000046\n",
      "realhdg = 2.300000000000005, calc = 2.300000000000005\n",
      "realhdg = 2.400000000000005, calc = 2.400000000000005\n",
      "realhdg = 2.5000000000000044, calc = 2.5000000000000044\n",
      "realhdg = 2.600000000000005, calc = 2.600000000000005\n",
      "realhdg = 2.7000000000000055, calc = 2.7000000000000055\n",
      "realhdg = 2.800000000000005, calc = 2.800000000000005\n",
      "realhdg = 2.900000000000005, calc = 2.900000000000005\n",
      "realhdg = 3.0000000000000053, calc = 3.0000000000000053\n",
      "realhdg = 3.100000000000006, calc = 3.100000000000006\n",
      "realhdg = 3.2000000000000055, calc = -3.0831853071795807\n"
     ]
    }
   ],
   "source": [
    "for i in np.arange(-3.2,3.3,0.1):\n",
    "    x1 = 1.0\n",
    "    y1 = 1.0\n",
    "    x2 = 1.+np.cos(i)*2.0\n",
    "    y2 = 1.+np.sin(i)*2.0\n",
    "    print(\"realhdg = {0}, calc = {1}\".format(i,giveHeading(x1,y1,x2,y2)))\n",
    "    "
   ]
  },
  {
   "cell_type": "code",
   "execution_count": 12,
   "metadata": {
    "ExecuteTime": {
     "end_time": "2020-03-06T14:14:22.342698Z",
     "start_time": "2020-03-06T14:14:22.339556Z"
    }
   },
   "outputs": [],
   "source": [
    "#export utils\n",
    "def checkDistance(x,y,x2,y2):\n",
    "    x_m = (x+x2)/2.0\n",
    "    y_m = (y+y2)/2.0\n",
    "    r = ((x_m-x)**2+(y_m-y)**2)**0.5\n",
    "    [_,_],phi,_,_ = rotateToXAxis([x_m,x2],[y_m,y2])\n",
    "    return x_m, y_m, r, phi\n"
   ]
  },
  {
   "cell_type": "code",
   "execution_count": 13,
   "metadata": {
    "ExecuteTime": {
     "end_time": "2020-03-06T14:14:22.515726Z",
     "start_time": "2020-03-06T14:14:22.508998Z"
    }
   },
   "outputs": [],
   "source": [
    "#export utils\n",
    "def drehen(x,y,phi, drehpunkt = [0,0], offset = False):\n",
    "        x = np.array(x)-drehpunkt[0]\n",
    "        y = np.array(y)-drehpunkt[1]\n",
    "        dmat =  np.array([[np.cos(phi),-np.sin(phi)],[np.sin(phi),np.cos(phi)]])\n",
    "        x_new = []\n",
    "        y_new = []\n",
    "        for i in range(len(x)):\n",
    "            points = np.matmul(dmat,np.hstack((x[i],y[i])))\n",
    "            x_new.append(points[0])\n",
    "            y_new.append(points[1])\n",
    "        x_new = np.array(x_new)\n",
    "        y_new = np.array(y_new)\n",
    "        if offset:\n",
    "            x_new = x_new+drehpunkt[0]\n",
    "            y_new = y_new+drehpunkt[1]\n",
    "        return x_new, y_new"
   ]
  },
  {
   "cell_type": "code",
   "execution_count": 14,
   "metadata": {
    "ExecuteTime": {
     "end_time": "2020-03-06T14:14:22.682797Z",
     "start_time": "2020-03-06T14:14:22.677648Z"
    }
   },
   "outputs": [],
   "source": [
    "#export utils\n",
    "def rotateToXAxis(x,y):\n",
    "        x_arr=np.array(x)-x[0]\n",
    "        y_arr=np.array(y)-y[0]\n",
    "        #rotate to initial approximately 0\n",
    "        #umrechnen in polarkoordinaten des ersten abstandes\n",
    "        if x_arr[1] > 0:\n",
    "                    phi = np.arctan(y_arr[1]/x_arr[1])\n",
    "        elif x_arr[1] == 0:\n",
    "                    if y_arr[1] > 0:\n",
    "                            phi = np.pi/2\n",
    "                    else:\n",
    "                            phi = -np.pi/2\n",
    "        else:\n",
    "                    if y_arr[1] >= 0:\n",
    "                            phi = np.arctan(y_arr[1]/x_arr[1])+np.pi\n",
    "                    else:\n",
    "                            phi = np.arctan(y_arr[1]/x_arr[1])-np.pi\n",
    "        phi = -phi\n",
    "        x_arr,y_arr = drehen(x_arr,y_arr,phi)\n",
    "        return [x[0],y[0]],phi,x_arr,y_arr"
   ]
  },
  {
   "cell_type": "code",
   "execution_count": 15,
   "metadata": {
    "ExecuteTime": {
     "end_time": "2020-03-06T14:14:22.842140Z",
     "start_time": "2020-03-06T14:14:22.839374Z"
    }
   },
   "outputs": [],
   "source": [
    "#export utils\n",
    "\n",
    "def getXYPositionFromLineLength(xstart, ystart, heading, length):\n",
    "    xend = xstart + np.cos(heading) * length\n",
    "    yend = ystart + np.sin(heading) * length\n",
    "    return xend, yend\n"
   ]
  },
  {
   "cell_type": "code",
   "execution_count": 16,
   "metadata": {
    "ExecuteTime": {
     "end_time": "2020-03-06T14:14:22.996671Z",
     "start_time": "2020-03-06T14:14:22.991911Z"
    }
   },
   "outputs": [],
   "source": [
    "#export utils\n",
    "global referenceLat\n",
    "global referenceLon\n",
    "referenceLat = None\n",
    "referenceLon = None\n",
    "\n",
    "\n",
    "global topoParameter\n",
    "global topomap\n",
    "def convertTopoMap(topomappath, osmpath):\n",
    "        global topomap\n",
    "        global topoParameter\n",
    "        try:\n",
    "                topomap =  np.array(Image.open(topomappath))[:,:,0] #y,x,rgba\n",
    "        except:\n",
    "                topomap =  np.array(Image.open(topomappath))[:,:] #y,x,rgba\n",
    "        topomap=np.rot90(topomap)\n",
    "        topomap=np.rot90(topomap)\n",
    "        topoParameter = giveMaxMinLongLat(osmpath)\n",
    "        return topoParameter\n",
    "\n",
    "global maximumheight, minimumheight\n",
    "maximumheight = 0.0\n",
    "minimumheight = 0.0\n",
    "def setHeights(minimum, maximum):\n",
    "        global maximumheight, minimumheight\n",
    "        minimumheight = minimum\n",
    "        maximumheight  = maximum\n"
   ]
  },
  {
   "cell_type": "code",
   "execution_count": 17,
   "metadata": {
    "ExecuteTime": {
     "end_time": "2020-03-06T14:14:23.162776Z",
     "start_time": "2020-03-06T14:14:23.156518Z"
    }
   },
   "outputs": [],
   "source": [
    "#export utils\n",
    "def giveHeight(x,y,minRemoved = False):\n",
    "                global topoParameter\n",
    "                global topomap\n",
    "                global maximumheight, minimumheight\n",
    "                if not minRemoved:\n",
    "                        x_lookup= int(topomap.shape[1]*(x-topoParameter[0])/(topoParameter[1]-topoParameter[0]))\n",
    "                        y_lookup = int(topomap.shape[0]*(1.0-(y-topoParameter[2])/(topoParameter[3]-topoParameter[2])))\n",
    "                else:\n",
    "                        x_lookup= int(topomap.shape[1]*x/(topoParameter[1]-topoParameter[0]))\n",
    "                        y_lookup = int(topomap.shape[0]*(1.0-(y/(topoParameter[3]-topoParameter[2]))))\n",
    "                x_lookup = min(max(topomap.shape[1]-x_lookup-1,0),topomap.shape[1]-1)\n",
    "                y_lookup = min(max(topomap.shape[0]-1-y_lookup,0),topomap.shape[0]-1)\n",
    "                height = topomap[y_lookup,x_lookup]-np.min(topomap)\n",
    "                height = height/np.max(topomap) \n",
    "                height = height * (maximumheight-minimumheight) + minimumheight\n",
    "                return height"
   ]
  },
  {
   "cell_type": "code",
   "execution_count": 18,
   "metadata": {
    "ExecuteTime": {
     "end_time": "2020-03-06T14:14:23.315013Z",
     "start_time": "2020-03-06T14:14:23.306443Z"
    }
   },
   "outputs": [],
   "source": [
    "#export utils\n",
    "def giveMaxMinLongLat(osmpath, trustOSMHeaderMinMax = False):\n",
    "        minlat = 999999.0\n",
    "        maxlat = 0.0\n",
    "        minlon = 999999.0\n",
    "        maxlon = 0.0\n",
    "        for entity in parse_file(osmpath):\n",
    "                if isinstance(entity, Node):\n",
    "                        if minlat > entity.lat:  \n",
    "                                minlat = entity.lat\n",
    "                        if maxlat < entity.lat:\n",
    "                                maxlat = entity.lat\n",
    "                        if minlon > entity.lon:\n",
    "                                minlon = entity.lon\n",
    "                        if maxlon < entity.lon:\n",
    "                                maxlon = entity.lon\n",
    "\n",
    "        if trustOSMHeaderMinMax:\n",
    "                with open(osmpath, \"r\") as f:\n",
    "                        for line in f:\n",
    "                                if \"minlat='\" in line:\n",
    "                                        minlat = float(line.split(\"minlat='\")[1].split(\"'\")[0])\n",
    "                                if \"maxlat='\" in line:\n",
    "                                        maxlat = float(line.split(\"maxlat='\")[1].split(\"'\")[0])\n",
    "                                if \"maxlon='\" in line:\n",
    "                                        maxlon = float(line.split(\"maxlon='\")[1].split(\"'\")[0])\n",
    "                                if \"minlon='\" in line:\n",
    "                                        minlon = float(line.split(\"minlon='\")[1].split(\"'\")[0])\n",
    "                                if 'minlat=\"' in line:\n",
    "                                        minlat = float(line.split('minlat=\"')[1].split('\"')[0])\n",
    "                                if 'maxlat=\"' in line:\n",
    "                                        maxlat = float(line.split('maxlat=\"')[1].split('\"')[0])\n",
    "                                if 'maxlon=\"' in line:\n",
    "                                        maxlon = float(line.split('maxlon=\"')[1].split('\"')[0])\n",
    "                                if 'minlon=\"' in line:\n",
    "                                        minlon = float(line.split('minlon=\"')[1].split('\"')[0])\n",
    "        print(\"minlon = {},minlat= {},maxlon = {},maxlat = {}\".format(minlon,minlat,maxlon,maxlat))\n",
    "        xmin,ymin = convertLongitudeLatitude(minlon,minlat)\n",
    "        xmax,ymax = convertLongitudeLatitude(maxlon,maxlat)\n",
    "        return xmin, xmax, ymin, ymax\n"
   ]
  },
  {
   "cell_type": "code",
   "execution_count": 1,
   "metadata": {
    "ExecuteTime": {
     "end_time": "2020-03-09T09:05:59.669867Z",
     "start_time": "2020-03-09T09:05:59.667118Z"
    }
   },
   "outputs": [],
   "source": [
    "#export utils\n",
    "def convertLongitudeLatitude(longitude,latitude):\n",
    "        #return longitude, latitude\n",
    "        global referenceLat\n",
    "        global referenceLon\n",
    "\n",
    "        x,y = next(transformer.itransform([(latitude,longitude)]))\n",
    "\n",
    "        '''if referenceLat is None:\n",
    "            referenceLat = latitude\n",
    "            referenceLon = longitude'''\n",
    "        #x = latitude\n",
    "        #y = longitude\n",
    "        return x,y\n",
    "    \n"
   ]
  },
  {
   "cell_type": "code",
   "execution_count": 20,
   "metadata": {
    "ExecuteTime": {
     "end_time": "2020-03-06T14:14:24.681894Z",
     "start_time": "2020-03-06T14:14:24.677267Z"
    }
   },
   "outputs": [],
   "source": [
    "#export utils\n",
    "def distance(x1,y1,x2,y2):\n",
    "    return ((x1-x2)**2 + (y1-y2)**2)**0.5"
   ]
  },
  {
   "cell_type": "code",
   "execution_count": 21,
   "metadata": {
    "ExecuteTime": {
     "end_time": "2020-03-06T14:14:25.503180Z",
     "start_time": "2020-03-06T14:14:25.496650Z"
    }
   },
   "outputs": [],
   "source": [
    "#export utils\n",
    "def schnittpunkt(x1,y1,hdg1,x2,y2,hdg2):\n",
    "    #x1 + np.cos(hdg1) * r1 = x2 + np.cos(hdg2) * r2 = x_s\n",
    "    #y1 + np.sin(hdg1) * r1 = y2 + np.sin(hdg2) * r2 = y_s\n",
    "    \n",
    "    #r1 =   (x2-x2 + np.cos(hdg2) * r2) /(np.cos(hdg1))\n",
    "    #alt r1 = (y2-y1 + np.sin(hdg2) * r2) /(np.sin(hdg1))\n",
    "    \n",
    "    #---> r2= (x1-x2 + np.cos(hdg1) * r1)/np.cos(hdg2) \n",
    "    #---> alt: r2= (y1 -y2+ np.sin(hdg1) * r1 )/np.sin(hdg2)\n",
    "    #r2 ersetzen\n",
    "    #y1 + np.sin(hdg1) * r1 = y2 + np.sin(hdg2) * (x1-x2 + np.cos(hdg1) * r1)/np.cos(hdg2)\n",
    "    #alt: x1 + np.cos(hdg1) * r1 = x2 + np.cos(hdg2) * (y1 -y2+ np.sin(hdg1) * r1 )/np.sin(hdg2)\n",
    "    #r1 ersetzen\n",
    "    #y1 + np.sin(hdg1) * (x2-x2 + np.cos(hdg2) * r2) /(np.cos(hdg1)) = y2 + np.sin(hdg2) * r2\n",
    "    if abs(np.sin(hdg1) * np.cos(hdg2) - np.sin(hdg2) *np.cos(hdg1)) < 0.02:\n",
    "        r2 = ( y1*np.cos(hdg1) + np.sin(hdg1) * (x2-x2)-y2*np.cos(hdg1)) /((np.sin(hdg2)*np.cos(hdg1) - np.sin(hdg1) *np.cos(hdg2) ))\n",
    "        if abs(abs(hdg1) -np.pi/2.0) < 0.2:\n",
    "            r1 = (y2-y1 + np.sin(hdg2) * r2) /(np.sin(hdg1))\n",
    "        else:\n",
    "            r1 =   (x2-x2 + np.cos(hdg2) * r2) /(np.cos(hdg1))\n",
    "    else:\n",
    "        r1 = (-y1*np.cos(hdg2)+ y2*np.cos(hdg2) + np.sin(hdg2) *x1-np.sin(hdg2) *x2 )/(np.sin(hdg1) * np.cos(hdg2) - np.sin(hdg2) *np.cos(hdg1))\n",
    "        if abs(abs(hdg2) -np.pi/2.0) < 0.2:\n",
    "            r2 = (y1 -y2+ np.sin(hdg1) * r1 )/np.sin(hdg2)\n",
    "        else:\n",
    "            r2 = (x1-x2 + np.cos(hdg1) * r1)/np.cos(hdg2)\n",
    "    x_s = x1 + np.cos(hdg1) * r1\n",
    "    y_s = y1 + np.sin(hdg1) * r1\n",
    "    return x_s,y_s,r1,r2"
   ]
  },
  {
   "cell_type": "code",
   "execution_count": 32,
   "metadata": {
    "ExecuteTime": {
     "end_time": "2020-03-06T14:25:18.935994Z",
     "start_time": "2020-03-06T14:25:18.922456Z"
    }
   },
   "outputs": [],
   "source": [
    "#export utils\n",
    "def createVirtualLastPointForJunctionRoads(jx,jy,jrxs,jrys,radius = 3.0):\n",
    "    lastPoints = []\n",
    "    for i in range(len(jrxs)):\n",
    "        x = jrxs[i]\n",
    "        y = jrys[i]\n",
    "        hdg1 = giveHeading(jx,jy,x,y)\n",
    "        #get the 4 points to either side of the road\n",
    "        hdg1_90 = hdg1-np.pi/2.0\n",
    "        x1t1 = x + radius*np.cos(hdg1_90)\n",
    "        y1t1 = y + radius*np.sin(hdg1_90)\n",
    "        x1t2 = x - radius*np.cos(hdg1_90)\n",
    "        y1t2 = y - radius*np.sin(hdg1_90)\n",
    "        relevantr = [min(distance(jx,jy,x,y)*0.9,radius)] #0.9 da es die vorletzten Punkte des Weges sind->\n",
    "        #                                                  ansonsten sind die vorletzten und letzen punkte gleich\n",
    "        for j in range(len(jrxs)):\n",
    "            if i == j:\n",
    "                continue\n",
    "            x2 = jrxs[j]\n",
    "            y2 = jrys[j]\n",
    "            hdg2 = giveHeading(jx,jy,x2,y2)\n",
    "            #get the 4 points besides this line\n",
    "            hdg2_90 = hdg2-np.pi/2.0\n",
    "            x2t1 = x2 + radius*np.cos(hdg2_90)\n",
    "            y2t1 = y2 + radius*np.sin(hdg2_90)\n",
    "            x2t2 = x2 - radius*np.cos(hdg2_90)\n",
    "            y2t2 = y2 - radius*np.sin(hdg2_90)\n",
    "            # get the 4 intersectionPoints\n",
    "            ix1,iy1,_,_ = schnittpunkt(x1t1,y1t1,hdg1,x2t1,y2t1,hdg2)\n",
    "            ix1,iy1,_,_ = schnittpunkt(ix1,iy1,hdg1_90,x,y,hdg1)\n",
    "            ix2,iy2,_,_ = schnittpunkt(x1t2,y1t2,hdg1,x2t1,y2t1,hdg2)\n",
    "            ix2,iy2,_,_ = schnittpunkt(ix2,iy2,hdg1_90,x,y,hdg1)\n",
    "            ix3,iy3,_,_ = schnittpunkt(x1t1,y1t1,hdg1,x2t2,y2t2,hdg2)\n",
    "            ix3,iy3,_,_ = schnittpunkt(ix3,iy3,hdg1_90,x,y,hdg1)\n",
    "            ix4,iy4,_,_ = schnittpunkt(x1t2,y1t2,hdg1,x2t2,y2t2,hdg2)\n",
    "            ix4,iy4,_,_ = schnittpunkt(ix4,iy4,hdg1_90,x,y,hdg1)\n",
    "            ix = [ix1,ix2,ix3,ix4]\n",
    "            iy = [iy1,iy2,iy3,iy4]\n",
    "            #get the radius from relevant intersections\n",
    "            for k in range(4):\n",
    "                if min(x,jx)<ix[k]<max(x,jx) and min(y,jy)<iy[k]<max(y,jy): #point is on Line x,y to jx,jy! Relevant\n",
    "                    relevantr.append(distance(ix[k],iy[k],jx,jy))\n",
    "        lasty,lastx = getXYPositionFromLineLength(jx, jy, hdg1, max(relevantr))\n",
    "        lastPoints.append([lasty,lastx])\n",
    "    return lastPoints"
   ]
  },
  {
   "cell_type": "code",
   "execution_count": 35,
   "metadata": {
    "ExecuteTime": {
     "end_time": "2020-03-06T14:26:20.326060Z",
     "start_time": "2020-03-06T14:26:20.179923Z"
    }
   },
   "outputs": [
    {
     "data": {
      "image/png": "[encoded data removed]",
      "text/plain": [
       "<Figure size 432x288 with 1 Axes>"
      ]
     },
     "metadata": {
      "needs_background": "light"
     },
     "output_type": "display_data"
    },
    {
     "name": "stdout",
     "output_type": "stream",
     "text": [
      "[[1.0, 2.0], [1.0513167019494862, 1.683772233983162], [3.0, 2.0]]\n"
     ]
    }
   ],
   "source": [
    "import matplotlib.pyplot as plt\n",
    "%matplotlib inline\n",
    "\n",
    "startpointsX = [-3,-1.,5.]\n",
    "startpointsY = [2.,1.,2.]\n",
    "junctionX = 2.\n",
    "junctionY = 2.\n",
    "vPoints = createVirtualLastPointForJunctionRoads(junctionX,junctionY,startpointsX,startpointsY,radius = 1.0)\n",
    "endpointsX = np.array(vPoints).swapaxes(1,0)[0].tolist()\n",
    "endpointsY = np.array(vPoints).swapaxes(1,0)[1].tolist()\n",
    "\n",
    "plt.scatter(startpointsX+[junctionX]+endpointsX,startpointsY+[junctionY]+endpointsY)\n",
    "plt.show()\n",
    "\n",
    "print(createVirtualLastPointForJunctionRoads(junctionX,junctionY,startpointsX,startpointsY,radius = 1.0))\n"
   ]
  },
  {
   "cell_type": "code",
   "execution_count": 53,
   "metadata": {
    "ExecuteTime": {
     "end_time": "2020-03-06T17:03:57.573696Z",
     "start_time": "2020-03-06T17:03:57.566537Z"
    }
   },
   "outputs": [],
   "source": [
    "#export utils\n",
    "def getPositiveHeading(hdg):\n",
    "    while hdg < 0.0:\n",
    "         hdg+=2.0*np.pi\n",
    "    return hdg%(np.pi*2.0)\n",
    "    \n",
    "def getDeltaHdg(hdg1,hdg2):\n",
    "    hdg1 = getPositiveHeading(hdg1)\n",
    "    hdg2 = getPositiveHeading(hdg2)\n",
    "    deltaHdg = hdg1-hdg2\n",
    "    if abs(deltaHdg)//np.pi == 1: \n",
    "        deltaHdg = (abs(deltaHdg)%np.pi) * np.sign(deltaHdg)\n",
    "        deltaHdg = np.pi+deltaHdg if deltaHdg < 0.0 else -np.pi + deltaHdg\n",
    "    else:\n",
    "        deltaHdg = (abs(deltaHdg)%np.pi) * np.sign(deltaHdg)\n",
    "    return deltaHdg\n",
    "        "
   ]
  },
  {
   "cell_type": "code",
   "execution_count": 55,
   "metadata": {
    "ExecuteTime": {
     "end_time": "2020-03-06T17:05:37.072195Z",
     "start_time": "2020-03-06T17:05:37.061843Z"
    }
   },
   "outputs": [
    {
     "name": "stdout",
     "output_type": "stream",
     "text": [
      "-6.1 diff: 0.1831853071795866  -0.8168146928204134\n",
      "-5.85 diff: 0.4331853071795866  -0.5668146928204134\n",
      "-5.6 diff: 0.6831853071795866  -0.3168146928204134\n",
      "-5.35 diff: 0.9331853071795866  -0.06681469282041341\n",
      "-5.1 diff: 1.1831853071795866  0.1831853071795866\n",
      "-4.85 diff: 1.4331853071795866  0.4331853071795866\n",
      "-4.6 diff: 1.6831853071795866  0.6831853071795866\n",
      "-4.35 diff: 1.9331853071795866  0.9331853071795866\n",
      "-4.1 diff: 2.1831853071795866  1.1831853071795866\n",
      "-3.8499999999999996 diff: 2.4331853071795866  1.4331853071795866\n",
      "-3.5999999999999996 diff: 2.6831853071795866  1.6831853071795866\n",
      "-3.3499999999999996 diff: 2.9331853071795866  1.9331853071795866\n",
      "-3.0999999999999996 diff: 3.1831853071795866  2.1831853071795866\n",
      "-2.8499999999999996 diff: 3.4331853071795866  2.4331853071795866\n",
      "-2.5999999999999996 diff: 3.6831853071795866  2.6831853071795866\n",
      "-2.3499999999999996 diff: 3.9331853071795866  2.9331853071795866\n",
      "-2.0999999999999996 diff: 4.183185307179587  -3.0999999999999996\n",
      "-1.8499999999999996 diff: 4.433185307179587  -2.8499999999999996\n",
      "-1.5999999999999996 diff: 4.683185307179587  -2.5999999999999996\n",
      "-1.3499999999999996 diff: 4.933185307179587  -2.3499999999999996\n",
      "-1.0999999999999996 diff: 5.183185307179587  -2.0999999999999996\n",
      "-0.8499999999999996 diff: 5.433185307179587  -1.8499999999999996\n",
      "-0.5999999999999996 diff: 5.683185307179587  -1.5999999999999996\n",
      "-0.34999999999999964 diff: 5.933185307179587  -1.3499999999999996\n",
      "-0.09999999999999964 diff: 6.183185307179587  -1.0999999999999996\n",
      "0.15000000000000036 diff: 0.15000000000000036  -0.8499999999999996\n",
      "0.40000000000000036 diff: 0.40000000000000036  -0.5999999999999996\n",
      "0.6500000000000004 diff: 0.6500000000000004  -0.34999999999999964\n",
      "0.9000000000000004 diff: 0.9000000000000004  -0.09999999999999964\n",
      "1.1500000000000004 diff: 1.1500000000000004  0.15000000000000036\n",
      "1.4000000000000004 diff: 1.4000000000000004  0.40000000000000036\n",
      "1.6500000000000004 diff: 1.6500000000000004  0.6500000000000004\n",
      "1.9000000000000004 diff: 1.9000000000000004  0.9000000000000004\n",
      "2.1500000000000004 diff: 2.1500000000000004  1.1500000000000004\n",
      "2.4000000000000004 diff: 2.4000000000000004  1.4000000000000004\n",
      "2.6500000000000004 diff: 2.6500000000000004  1.6500000000000004\n",
      "2.9000000000000004 diff: 2.9000000000000004  1.9000000000000004\n",
      "3.1500000000000004 diff: 3.1500000000000004  2.1500000000000004\n",
      "3.4000000000000004 diff: 3.4000000000000004  2.4000000000000004\n",
      "3.6500000000000004 diff: 3.6500000000000004  2.6500000000000004\n",
      "3.9000000000000004 diff: 3.9000000000000004  2.9000000000000004\n",
      "4.15 diff: 4.15  -3.133185307179586\n",
      "4.4 diff: 4.4  -2.883185307179586\n",
      "4.65 diff: 4.65  -2.633185307179586\n",
      "4.9 diff: 4.9  -2.383185307179586\n",
      "5.15 diff: 5.15  -2.133185307179586\n",
      "5.4 diff: 5.4  -1.8831853071795859\n",
      "5.65 diff: 5.65  -1.6331853071795859\n",
      "5.9 diff: 5.9  -1.3831853071795859\n",
      "6.15 diff: 6.15  -1.1331853071795859\n"
     ]
    }
   ],
   "source": [
    "for hdg1 in np.arange(-6.1,6.2,0.25):\n",
    "    print(\"{0} diff: {2}  {1}\".format(hdg1,getDeltaHdg(hdg1,1.0),getPositiveHeading(hdg1)-0.0))"
   ]
  }
 ],
 "metadata": {
  "kernelspec": {
   "display_name": "Python 3",
   "language": "python",
   "name": "python3"
  },
  "language_info": {
   "codemirror_mode": {
    "name": "ipython",
    "version": 3
   },
   "file_extension": ".py",
   "mimetype": "text/x-python",
   "name": "python",
   "nbconvert_exporter": "python",
   "pygments_lexer": "ipython3",
   "version": "3.6.9"
  },
  "latex_envs": {
   "LaTeX_envs_menu_present": true,
   "autoclose": false,
   "autocomplete": true,
   "bibliofile": "biblio.bib",
   "cite_by": "apalike",
   "current_citInitial": 1,
   "eqLabelWithNumbers": true,
   "eqNumInitial": 1,
   "hotkeys": {
    "equation": "Ctrl-E",
    "itemize": "Ctrl-I"
   },
   "labels_anchors": false,
   "latex_user_defs": false,
   "report_style_numbering": false,
   "user_envs_cfg": false
  },
  "toc": {
   "base_numbering": 1,
   "nav_menu": {},
   "number_sections": true,
   "sideBar": true,
   "skip_h1_title": false,
   "title_cell": "Table of Contents",
   "title_sidebar": "Contents",
   "toc_cell": false,
   "toc_position": {},
   "toc_section_display": true,
   "toc_window_display": false
  }
 },
 "nbformat": 4,
 "nbformat_minor": 2
}
