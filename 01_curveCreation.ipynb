{
 "cells": [
  {
   "cell_type": "code",
   "execution_count": 1,
   "metadata": {
    "ExecuteTime": {
     "end_time": "2020-03-06T18:07:38.029213Z",
     "start_time": "2020-03-06T18:07:38.026647Z"
    }
   },
   "outputs": [],
   "source": [
    "#default_exp arcCurves"
   ]
  },
  {
   "cell_type": "code",
   "execution_count": 2,
   "metadata": {
    "ExecuteTime": {
     "end_time": "2020-03-06T18:07:39.429492Z",
     "start_time": "2020-03-06T18:07:39.226080Z"
    }
   },
   "outputs": [],
   "source": [
    "#export arcCurves\n",
    "from math import floor, pi\n",
    "import numpy as np\n",
    "from osm2xods.utils import giveHeading, distance,schnittpunkt,getXYPositionFromLineLength,getPositiveHeading,getDeltaHdg"
   ]
  },
  {
   "cell_type": "markdown",
   "metadata": {},
   "source": [
    "length of curve * curvature = delta Heading\n",
    "\n",
    "<img src=\"curves.png\" width=200/>"
   ]
  },
  {
   "cell_type": "code",
   "execution_count": 3,
   "metadata": {
    "ExecuteTime": {
     "end_time": "2020-03-06T18:07:41.213844Z",
     "start_time": "2020-03-06T18:07:41.208129Z"
    }
   },
   "outputs": [],
   "source": [
    "#export arcCurves\n",
    "def getArcEndposition(curvature,length,xstart,ystart,hdg_start):\n",
    "    deltaHdg = curvature*length\n",
    "    hdg_end = deltaHdg + hdg_start\n",
    "    if abs(curvature) > 0.0:\n",
    "        radius = length/deltaHdg   \n",
    "        #get Midpoint of Arc\n",
    "        #turn 90 degree in curvature, walk to the radius to M, then turn back \n",
    "        #and substract deltaHeading and walk radius back\n",
    "        if curvature < 0.0:\n",
    "            x_M = np.cos(hdg_start+np.pi/2.0)*radius+xstart\n",
    "            y_M = np.sin(hdg_start+np.pi/2.0)*radius + ystart\n",
    "            x_end = np.cos(hdg_start-np.pi/2.0+deltaHdg)*radius+x_M\n",
    "            y_end = np.sin(hdg_start-np.pi/2.0+deltaHdg)*radius+y_M\n",
    "        else:\n",
    "            x_M = np.cos(hdg_start+np.pi/2.0)*radius+xstart\n",
    "            y_M = np.sin(hdg_start+np.pi/2.0)*radius + ystart\n",
    "            x_end = np.cos(hdg_start-np.pi/2.0+deltaHdg)*radius+x_M\n",
    "            y_end = np.sin(hdg_start-np.pi/2.0+deltaHdg)*radius+y_M\n",
    "    else:\n",
    "        x_end = np.cos(hdg_start)*length +xstart\n",
    "        y_end = np.sin(hdg_start)*length + ystart\n",
    "    return x_end, y_end, getPositiveHeading(hdg_end)"
   ]
  },
  {
   "cell_type": "code",
   "execution_count": 4,
   "metadata": {
    "ExecuteTime": {
     "end_time": "2020-03-06T18:07:43.405198Z",
     "start_time": "2020-03-06T18:07:43.399987Z"
    }
   },
   "outputs": [
    {
     "name": "stdout",
     "output_type": "stream",
     "text": [
      "(0.8414709848078964, -0.45969769413186023, 5.283185307179586)\n",
      "(0.8414709848078966, 0.45969769413186035, 1.0)\n",
      "(0.9979760753634936, 0.0, 6.283185307179486)\n"
     ]
    }
   ],
   "source": [
    "print(getArcEndposition(-1,1,0,0,0))\n",
    "print(getArcEndposition(1,1,0,0,0))\n",
    "print(getArcEndposition(-0.0000000000001,1,0,0,0))"
   ]
  },
  {
   "cell_type": "code",
   "execution_count": null,
   "metadata": {
    "ExecuteTime": {
     "end_time": "2020-03-04T09:29:43.897109Z",
     "start_time": "2020-03-04T09:29:43.893829Z"
    }
   },
   "outputs": [],
   "source": []
  },
  {
   "cell_type": "code",
   "execution_count": 5,
   "metadata": {
    "ExecuteTime": {
     "end_time": "2020-03-06T18:07:45.293416Z",
     "start_time": "2020-03-06T18:07:45.283428Z"
    }
   },
   "outputs": [
    {
     "data": {
      "text/plain": [
       "(-0.9999999999999998,\n",
       " 1.200669344170901,\n",
       " -2.0100418368009105,\n",
       " 2.799330655829099)"
      ]
     },
     "execution_count": 5,
     "metadata": {},
     "output_type": "execute_result"
    }
   ],
   "source": [
    "\n",
    "\n",
    "schnittpunkt(1.0, 1.0, -0.1, -1.0,4.0, -np.pi/2.0)"
   ]
  },
  {
   "cell_type": "code",
   "execution_count": 6,
   "metadata": {
    "ExecuteTime": {
     "end_time": "2020-03-06T18:07:49.169572Z",
     "start_time": "2020-03-06T18:07:49.166145Z"
    }
   },
   "outputs": [
    {
     "data": {
      "text/plain": [
       "0.5403023058681398"
      ]
     },
     "execution_count": 6,
     "metadata": {},
     "output_type": "execute_result"
    }
   ],
   "source": [
    "hdg1 = np.pi/2.0\n",
    "hdg2 = 1\n",
    "(np.sin(hdg1) * np.cos(hdg2) - np.sin(hdg2) *np.cos(hdg1))"
   ]
  },
  {
   "cell_type": "code",
   "execution_count": 22,
   "metadata": {
    "ExecuteTime": {
     "end_time": "2020-03-06T18:21:52.840914Z",
     "start_time": "2020-03-06T18:21:52.826711Z"
    }
   },
   "outputs": [],
   "source": [
    "#export arcCurves\n",
    "def getArcCurvatureAndLength(xstart,ystart,x_end,y_end, x_curveMid, y_curveMid, maxerror = 0.8, minradius = 0.5, iterations = 10):\n",
    "    #print(\"Calculating Curve from {0},{1}  over {2},{3} to {4},{5}\".format(xstart,ystart,x_curveMid, y_curveMid,x_end,y_end))\n",
    "    hdg_start = giveHeading(xstart,ystart,x_curveMid, y_curveMid)\n",
    "    hdg_mid2end = giveHeading(x_curveMid, y_curveMid, x_end,y_end)\n",
    "    assert hdg_start != hdg_mid2end, \"The directions have to be different!\"\n",
    "    deltaHdg = getDeltaHdg(hdg_start,hdg_mid2end)\n",
    "    #print(\"deltaHdg = {}\".format(deltaHdg))\n",
    "    winkelHalbHdg = deltaHdg/2.0 + hdg_start\n",
    "    maxDist = distance(x_curveMid,y_curveMid,xstart,ystart) if distance(x_curveMid,y_curveMid,xstart,ystart) <= \\\n",
    "                distance(x_curveMid,y_curveMid,x_end,y_end) else distance(x_curveMid,y_curveMid,x_end,y_end)\n",
    "    if abs(deltaHdg) < 0.0001:\n",
    "        return xstart,ystart,x_end,y_end,0.0,distance(xstart,ystart,x_end,y_end)\n",
    "    hdg_90_a = hdg_start-np.pi/2.0\n",
    "    hdg_90_b = hdg_mid2end - np.pi/2.0\n",
    "        \n",
    "    #dist = < maxDist\n",
    "        \n",
    "    #x1 = x_curveMid + dist*np.cos(hdg_start-np.pi)\n",
    "    #y1 = y_curveMid + dist*np.sin(hdg_start-np.pi)\n",
    "    #x2 = x_curveMid + dist*np.cos(hdg_mid2end)\n",
    "    #y2 = y_curveMid + dist*np.sin(hdg_mid2end)\n",
    "    #r1 = (-y2 + y1)/((np.sin(hdg_90_a)  + np.sin(hdg_90_b) * (x1 + np.cos(hdg_90_a))/(x2 + np.cos(hdg_90_b)) ))\n",
    "    #x_m = x1 + np.cos(hdg_90_a) * r1\n",
    "    #y_m = y1 - np.sin(hdg_90_a) * r1\n",
    "    #error = ((x_m-x_curveMid)**2 + (y_m-y_curveMid)**2)**0.5  - r1\n",
    "    # get dist from error...\n",
    "\n",
    "    dist = maxDist\n",
    "    bestDist = dist    \n",
    "    x1 = x_curveMid + dist*np.cos(hdg_start-np.pi)\n",
    "    y1 = y_curveMid + dist*np.sin(hdg_start-np.pi)\n",
    "    x2 = x_curveMid + dist*np.cos(hdg_mid2end)\n",
    "    y2 = y_curveMid + dist*np.sin(hdg_mid2end)\n",
    "    x_m,y_m,r1,r2 = schnittpunkt(x1,y1,hdg_90_a,x2,y2,hdg_90_b)\n",
    "    error = distance(x_m,y_m,x_curveMid,y_curveMid) - abs(r1)\n",
    "    if error < maxerror:\n",
    "        #print(\"Error: {0}\".format(error))\n",
    "        pass\n",
    "    else:\n",
    "        bestDist = minradius\n",
    "        notWorkingDist = dist\n",
    "        for i in range(iterations):\n",
    "            dist = (bestDist + notWorkingDist)/2.0\n",
    "            x1 = x_curveMid + dist*np.cos(hdg_start-np.pi)\n",
    "            y1 = y_curveMid + dist*np.sin(hdg_start-np.pi)\n",
    "            x2 = x_curveMid + dist*np.cos(hdg_mid2end)\n",
    "            y2 = y_curveMid + dist*np.sin(hdg_mid2end)\n",
    "            x_m,y_m,r1,r2 = schnittpunkt(x1,y1,hdg_90_a,x2,y2,hdg_90_b)\n",
    "            error = distance(x_m,y_m,x_curveMid,y_curveMid) - abs(r1)\n",
    "            if error < maxerror:\n",
    "                bestDist = dist\n",
    "            else:\n",
    "                notWorkingDist = dist\n",
    "            #print(\"BestDistance:{0}  Error: {1}\".format(bestDist,error))\n",
    "    x1 = x_curveMid + bestDist*np.cos(hdg_start-np.pi)\n",
    "    y1 = y_curveMid + bestDist*np.sin(hdg_start-np.pi)\n",
    "    x2 = x_curveMid + bestDist*np.cos(hdg_mid2end) \n",
    "    y2 = y_curveMid + bestDist*np.sin(hdg_mid2end)\n",
    "    x_s,y_s,r1,r2 = schnittpunkt(x1,y1,hdg_90_a,x2,y2,hdg_90_b)\n",
    "    length = abs(r1)*abs(deltaHdg)  #2pi r für vollen kreisbogen\n",
    "    curvature = -deltaHdg / length\n",
    "    return x1,y1,x2,y2,curvature,length"
   ]
  },
  {
   "cell_type": "markdown",
   "metadata": {},
   "source": [
    "# Test the getArcCurvatureAndLength"
   ]
  },
  {
   "cell_type": "code",
   "execution_count": 26,
   "metadata": {
    "ExecuteTime": {
     "end_time": "2020-03-06T18:22:52.757790Z",
     "start_time": "2020-03-06T18:22:52.436815Z"
    }
   },
   "outputs": [],
   "source": [
    "for hdg1 in np.arange(-3.1,3.1,0.1):\n",
    "    x1 = np.cos(hdg1-np.pi)*5.0\n",
    "    y1 = np.sin(hdg1-np.pi)*5.0\n",
    "    x2 = 0.0\n",
    "    y2 = 0.0\n",
    "    for hdg2 in np.arange(-3.1,3.1,0.1):\n",
    "        if hdg1 != hdg2:\n",
    "            x3 = np.cos(hdg2)*5.0\n",
    "            y3 = np.sin(hdg2)*5.0\n",
    "            x1c,y1c,x3c,y3c,curvature,length = getArcCurvatureAndLength(x1,y1,x3,y3, x2, y2, maxerror = 99.9, minradius = 0.005, iterations = 10)\n",
    "            xe,ye,hdge = getArcEndposition(curvature,length,x1c, y1c, hdg1)\n",
    "            if abs(getDeltaHdg(hdge,hdg2)) > 0.001: \n",
    "                print(\"Hdg2 falsch! hdg2:{0}  hdge:{1}\".format(hdg2,hdge))\n",
    "            if abs(x3-xe) > 0.001: \n",
    "                print(\"x end falsch! x3:{0} xe:{1}\".format(x3,xe))\n",
    "                print(\"hdg1:{0}  hdg2:{1} x1:{2} x1c:{3} x3c:{4} x3:{5} xe:{6} curvature:{7} length:{8}\".format(hdg1,hdg2,x1,x1c,x3c,x3,xe,curvature,length))\n",
    "            if abs(y3-ye) > 0.001: \n",
    "                print(\"y end falsch! y3:{0} ye:{1}\".format(y3,ye))\n",
    "                print(\"hdg1:{0}  hdg2:{1} y1:{2} y1c:{3} y3c:{4} y3:{5} ye:{6} curvature:{7} length:{8}\".format(hdg1,hdg2,y1,y1c,y3c,y3,ye,curvature,length))"
   ]
  },
  {
   "cell_type": "code",
   "execution_count": 16,
   "metadata": {
    "ExecuteTime": {
     "end_time": "2020-03-06T18:16:37.041235Z",
     "start_time": "2020-03-06T18:16:37.034288Z"
    }
   },
   "outputs": [
    {
     "data": {
      "text/plain": [
       "(0.7639320225002102,\n",
       " -2.7383934913210134e-16,\n",
       " 5.0,\n",
       " 1.0,\n",
       " 0.10557280900008414,\n",
       " 4.391733187666121)"
      ]
     },
     "execution_count": 16,
     "metadata": {},
     "output_type": "execute_result"
    }
   ],
   "source": [
    "xstart,ystart,x_end,y_end, x_curveMid, y_curveMid = 0.0, 0.0,  5.0, 1.0, 3.0, 0.0\n",
    "\n",
    "getArcCurvatureAndLength(xstart,ystart,x_end,y_end, x_curveMid, y_curveMid, maxerror = 0.8, iterations=10)"
   ]
  },
  {
   "cell_type": "code",
   "execution_count": null,
   "metadata": {
    "ExecuteTime": {
     "end_time": "2020-03-05T12:19:49.826941Z",
     "start_time": "2020-03-05T12:19:49.823500Z"
    }
   },
   "outputs": [],
   "source": [
    "getArcEndposition(0.3931147506039497,1.179420533797054, 2.399493463073787, -7.354084083137487e-17, giveHeading(0.0, 0.0,3.0, 0.0))"
   ]
  },
  {
   "cell_type": "code",
   "execution_count": null,
   "metadata": {
    "ExecuteTime": {
     "end_time": "2020-03-05T12:19:50.317307Z",
     "start_time": "2020-03-05T12:19:50.312436Z"
    }
   },
   "outputs": [],
   "source": [
    "giveHeading(3.0, 0.0,5.0, 1.0)"
   ]
  },
  {
   "cell_type": "code",
   "execution_count": null,
   "metadata": {
    "ExecuteTime": {
     "end_time": "2020-03-04T09:29:47.211959Z",
     "start_time": "2020-03-04T09:29:47.207126Z"
    }
   },
   "outputs": [],
   "source": []
  },
  {
   "cell_type": "code",
   "execution_count": null,
   "metadata": {
    "ExecuteTime": {
     "end_time": "2020-03-05T12:19:51.570345Z",
     "start_time": "2020-03-05T12:19:51.564496Z"
    }
   },
   "outputs": [],
   "source": [
    "print(getXYPositionFromLineLength(0.,0.,0,1.))\n",
    "print(getXYPositionFromLineLength(0.,0.,1,1.))\n",
    "print(getXYPositionFromLineLength(0.,0.,2,1.))\n",
    "print(getXYPositionFromLineLength(0.,0.,3,1.))\n",
    "print(getXYPositionFromLineLength(0.,0.,4,1.))\n",
    "print(getXYPositionFromLineLength(0.,0.,5,1.))\n",
    "print(getXYPositionFromLineLength(0.,0.,6,1.))\n",
    "print(getXYPositionFromLineLength(0.,0.,-1.,1.))"
   ]
  },
  {
   "cell_type": "code",
   "execution_count": null,
   "metadata": {},
   "outputs": [],
   "source": []
  },
  {
   "cell_type": "code",
   "execution_count": null,
   "metadata": {
    "ExecuteTime": {
     "end_time": "2020-03-05T12:19:54.044126Z",
     "start_time": "2020-03-05T12:19:54.023895Z"
    },
    "run_control": {
     "marked": false
    }
   },
   "outputs": [],
   "source": [
    "#export arcCurves\n",
    "def getArcCurvatureAndLength2Point(xstart,ystart,x_end,y_end, hdg_start, hdg_end):\n",
    "    if abs(hdg_start - hdg_end) < 0.0001:\n",
    "        if abs(giveHeading(xstart,ystart,x_end,y_end) - hdg_start) < 0.0001:\n",
    "            return {\"ArcStartCoordinatesXY\":[xstart, ystart],\"ArcCurvatureLength\":[0.0,distance(xstart,ystart,x_end,y_end)],\"StartlineLength\":0.0,\"EndlineLength\":0.0,\"EndlineStartCoordinatesXY\":[x_end, y_end]}\n",
    "        else:\n",
    "            #parallele Linien! todo mach nen vernünftigen wert draus\n",
    "            return {\"ArcStartCoordinatesXY\":[xstart, ystart],\"ArcCurvatureLength\":[0.0,distance(xstart,ystart,x_end,y_end)],\"StartlineLength\":0.0,\"EndlineLength\":0.0,\"EndlineStartCoordinatesXY\":[x_end, y_end]}\n",
    "    hdg_end = hdg_end-np.pi\n",
    "    # get a synthetic midpoint\n",
    "    x_s,y_s,r1,r2 = schnittpunkt(xstart,ystart,hdg_start,x_end,y_end,hdg_end)\n",
    "    #print(\"schnittpunkt: r1:{0}  r2:{1}\".format(r1,r2))\n",
    "    # 3 cases: either this is the curve-point (r1 and r2 positive) or it is the centerpoint of to diverging lines (r1 and r2 negative)\n",
    "    # or this is the centerpoint of a new imaginary line (one of both negative, one positive)\n",
    "    if r1 > 0.0 and r2 > 0.0:\n",
    "        x1,y1,x2,y2,curvature,length = getArcCurvatureAndLength(xstart,ystart,x_end,y_end, x_s, y_s, maxerror = 999999999.8, minradius = 0.5, iterations = 10)\n",
    "        return {\"ArcStartCoordinatesXY\":[x1, y1],\"ArcCurvatureLength\":[curvature,length],\"StartlineLength\":distance(xstart,ystart,x1,y1),\"EndlineLength\":distance(x_end,y_end,x2,y2),\"EndlineStartCoordinatesXY\":[x2,y2]}\n",
    "    if r1 < 0.0 and r2 < 0.0:\n",
    "        # ensure r1 and r2 are the same length (maximum)\n",
    "        maximumLinelength = max(abs(r1),abs(r2))\n",
    "        startlineLength = maximumLinelength - abs(r1)\n",
    "        endlineLength = maximumLinelength - abs(r2) \n",
    "\n",
    "    if min(r1,r2)< 0.0 and max(r1,r2) > 0.0:\n",
    "        #the maximum will have to run forward to the intersection and then again forward with the length of the abs(minimum)\n",
    "        startlineLength = r1 + abs(r2) if r1 == max(r1,r2) else 0.0\n",
    "        endlineLength = r2 + abs(r1) if r2 == max(r1,r2) else 0.0\n",
    "    x_startL, y_startL = getXYPositionFromLineLength(xstart, ystart, hdg_start, startlineLength)\n",
    "    x_endL, y_endL = getXYPositionFromLineLength(x_end, y_end, hdg_end, endlineLength)\n",
    "    #get opposite curve - error should be high enough to let the curve start from the beginning points\n",
    "    _,_,_,_,curvature,length = getArcCurvatureAndLength(x_startL,y_startL,x_endL,y_endL, x_s, y_s, maxerror = 999.8, minradius = 0.5, iterations = 10)\n",
    "    #get the opposide part of the circle\n",
    "    deltaHdg = 2*np.pi - abs(length*curvature)\n",
    "    length = abs(deltaHdg/curvature)\n",
    "    \n",
    "    return {\"ArcStartCoordinatesXY\":[x_startL, y_startL],\"ArcCurvatureLength\":[curvature,length],\"StartlineLength\":startlineLength,\"EndlineLength\":endlineLength,\"EndlineStartCoordinatesXY\":[x_endL, y_endL]}"
   ]
  },
  {
   "cell_type": "code",
   "execution_count": null,
   "metadata": {},
   "outputs": [],
   "source": []
  },
  {
   "cell_type": "code",
   "execution_count": null,
   "metadata": {
    "ExecuteTime": {
     "end_time": "2020-03-05T12:19:55.742976Z",
     "start_time": "2020-03-05T12:19:55.740007Z"
    }
   },
   "outputs": [],
   "source": [
    "#create a two lane 180 degree turn as a test"
   ]
  },
  {
   "cell_type": "code",
   "execution_count": null,
   "metadata": {},
   "outputs": [],
   "source": []
  },
  {
   "cell_type": "code",
   "execution_count": null,
   "metadata": {
    "ExecuteTime": {
     "end_time": "2020-03-05T12:19:56.694792Z",
     "start_time": "2020-03-05T12:19:56.684332Z"
    }
   },
   "outputs": [],
   "source": [
    "#export arcCurves\n",
    "def endTurn2LaneStreet(x_start,y_start, hdg_start, preTurnLength = 3.0):\n",
    "    #create a hard 45° turn in 1 meter\n",
    "    x_1, y_1, hdg_1 = getArcEndposition(-np.pi/(4.0*preTurnLength),preTurnLength,x_start,y_start,hdg_start)\n",
    "    x_2, y_2, hdg_2 = getArcEndposition(np.pi/(4.0*preTurnLength),preTurnLength,x_start,y_start,hdg_start)\n",
    "    hdg_2 += np.pi\n",
    "    hdg_2 = hdg_2 % (2.*np.pi)\n",
    "    #get the appropriate curvature\n",
    "    returnDict = getArcCurvatureAndLength2Point(x_1,y_1,x_2,y_2, hdg_1, hdg_2-np.pi)\n",
    "    returnDict[\"StartPointXYHdg\"] = [x_start,y_start,hdg_start]\n",
    "    returnDict[\"BeginningArcCurvatureLength\"] = [-np.pi/(4.0*preTurnLength),preTurnLength]\n",
    "    returnDict[\"BeginningArcEndXYHdg\"] = [x_1, y_1,hdg_1]\n",
    "    returnDict[\"EndLineHdg\"] = hdg_2\n",
    "    returnDict[\"EndArcBeginningXYHdgCurvatureLength\"] = [x_2, y_2,hdg_2,-np.pi/(4.0*preTurnLength),preTurnLength]\n",
    "    return returnDict"
   ]
  },
  {
   "cell_type": "code",
   "execution_count": null,
   "metadata": {
    "ExecuteTime": {
     "end_time": "2020-03-05T12:19:58.694499Z",
     "start_time": "2020-03-05T12:19:58.689163Z"
    }
   },
   "outputs": [],
   "source": [
    "endTurn2LaneStreet(350.0, 0.0, 0.0)"
   ]
  },
  {
   "cell_type": "code",
   "execution_count": null,
   "metadata": {
    "ExecuteTime": {
     "end_time": "2020-03-04T09:29:57.711378Z",
     "start_time": "2020-03-04T09:29:57.707645Z"
    }
   },
   "outputs": [],
   "source": [
    "def printEndCap(dic):\n",
    "    length = dic['ArcCurvatureLength'][1] + 2.* dic['BeginningArcCurvatureLength'][1]\n",
    "    '''\n",
    "    <road name=\"Road 2\" length=\"{0}\" id=\"2\" junction=\"-1\">\n",
    "        <link>\n",
    "            <predecessor elementType=\"road\" elementId=\"1\" contactPoint=\"start\" />\n",
    "\t    <successor elementType=\"road\" elementId=\"1\" contactPoint=\"start\" />\n",
    "        </link>\n",
    "        <type s=\"0.0000000000000000e+0\" type=\"town\">\n",
    "            <speed max=\"125\" unit=\"mph\"/>\n",
    "        </type>\n",
    "        <planView>'''.format(length) + '''\n",
    "            <geometry s=\"0.0000000000000000e+0\" x=\"{0}\" y=\"{1}\" hdg=\"{2}\" length=\"{3}\">\n",
    "                <arc curvature=\"{4}\"/>\n",
    "            </geometry>\n",
    "\t    <geometry s=\"{5}\" x=\"{6}\" y=\"{7}\" hdg=\"{9}\"  length=\"{10}\">\n",
    "                <arc curvature=\"{11}\"/>\n",
    "            </geometry>\n",
    "\t    <geometry s=\"{12}\" x=\"{13}\" y=\"{14}\" hdg=\"{15}\" length=\"{16}\">\n",
    "                <arc curvature=\"{17}\"/>\n",
    "            </geometry>'''.format(350.0, 0.0, 0.0, dic['BeginningArcCurvatureLength'][1])+'''\n",
    "            \n",
    "        </planView>\n",
    "        <elevationProfile>\n",
    "            <elevation s=\"0.0000000000000000e+0\" a=\"0.0000000000000000e+0\" b=\"0.0000000000000000e+0\" c=\"0.0000000000000000e+0\" d=\"0.0000000000000000e+0\"/>\n",
    "            \n",
    "        </elevationProfile>\n",
    "        <lanes>\n",
    "            <laneOffset s=\"0.0000000000000000e+0\" a=\"0.0000000000000000e+0\" b=\"0.0000000000000000e+0\" c=\"0.0000000000000000e+0\" d=\"0.0000000000000000e+0\"/>\n",
    "            <laneSection s=\"0.0000000000000000e+0\">\n",
    "                <left>\n",
    "                </left>\n",
    "                <center>\n",
    "                    <lane id=\"0\" type=\"none\" level=\"false\">\n",
    "                        <roadMark sOffset=\"0.0000000000000000e+0\" type=\"broken\" material=\"standard\" color=\"yellow\" width=\"1.2500000000000000e-1\" laneChange=\"none\"/>\n",
    "                    </lane>\n",
    "                </center>\n",
    "                <right>\n",
    "                    <lane id=\"-1\" type=\"driving\" level=\"false\">\n",
    "                        <width sOffset=\"0.0000000000000000e+0\" a=\"4.0000000000000000e+0\" b=\"0.0000000000000000e+0\" c=\"0.0000000000000000e+0\" d=\"0.0000000000000000e+0\"/>\n",
    "                        <roadMark sOffset=\"0.0000000000000000e+0\" type=\"none\" material=\"standard\" color=\"white\" laneChange=\"none\"/>\n",
    "\t\t\t<link>\n",
    "                    \t\t<predecessor id=\"-1\"/>\n",
    "\t\t\t\t<successor id=\"-1\"/>\n",
    "                        </link>\n",
    "                        <userData>\n",
    "                            <vectorLane travelDir=\"forward\"/>\n",
    "                        </userData>\n",
    "                    </lane>\n",
    "                   \n",
    "                </right>\n",
    "            </laneSection>\n",
    "        </lanes>\n",
    "    </road>'''"
   ]
  },
  {
   "cell_type": "code",
   "execution_count": null,
   "metadata": {
    "ExecuteTime": {
     "end_time": "2020-03-03T14:48:32.077331Z",
     "start_time": "2020-03-03T14:48:32.073772Z"
    }
   },
   "outputs": [],
   "source": [
    "12.42640687119294 + 5"
   ]
  },
  {
   "cell_type": "code",
   "execution_count": null,
   "metadata": {},
   "outputs": [],
   "source": []
  }
 ],
 "metadata": {
  "kernelspec": {
   "display_name": "Python 3",
   "language": "python",
   "name": "python3"
  },
  "language_info": {
   "codemirror_mode": {
    "name": "ipython",
    "version": 3
   },
   "file_extension": ".py",
   "mimetype": "text/x-python",
   "name": "python",
   "nbconvert_exporter": "python",
   "pygments_lexer": "ipython3",
   "version": "3.6.9"
  },
  "latex_envs": {
   "LaTeX_envs_menu_present": true,
   "autoclose": false,
   "autocomplete": true,
   "bibliofile": "biblio.bib",
   "cite_by": "apalike",
   "current_citInitial": 1,
   "eqLabelWithNumbers": true,
   "eqNumInitial": 1,
   "hotkeys": {
    "equation": "Ctrl-E",
    "itemize": "Ctrl-I"
   },
   "labels_anchors": false,
   "latex_user_defs": false,
   "report_style_numbering": false,
   "user_envs_cfg": false
  },
  "toc": {
   "base_numbering": 1,
   "nav_menu": {},
   "number_sections": true,
   "sideBar": true,
   "skip_h1_title": false,
   "title_cell": "Table of Contents",
   "title_sidebar": "Contents",
   "toc_cell": false,
   "toc_position": {},
   "toc_section_display": true,
   "toc_window_display": false
  }
 },
 "nbformat": 4,
 "nbformat_minor": 2
}
