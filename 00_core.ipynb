{
 "cells": [
  {
   "cell_type": "code",
   "execution_count": null,
   "metadata": {
    "ExecuteTime": {
     "end_time": "2020-03-04T09:53:00.595943Z",
     "start_time": "2020-03-04T09:53:00.593800Z"
    }
   },
   "outputs": [],
   "source": [
    "#default_exp main"
   ]
  },
  {
   "cell_type": "code",
   "execution_count": null,
   "metadata": {
    "ExecuteTime": {
     "end_time": "2020-03-04T09:53:01.210527Z",
     "start_time": "2020-03-04T09:53:01.198753Z"
    }
   },
   "outputs": [],
   "source": [
    "%load_ext autoreload\n",
    "%autoreload 2"
   ]
  },
  {
   "cell_type": "code",
   "execution_count": null,
   "metadata": {
    "ExecuteTime": {
     "end_time": "2020-03-04T09:53:03.406030Z",
     "start_time": "2020-03-04T09:53:03.335634Z"
    }
   },
   "outputs": [],
   "source": [
    "from nbdev.showdoc import *"
   ]
  },
  {
   "cell_type": "code",
   "execution_count": null,
   "metadata": {
    "ExecuteTime": {
     "end_time": "2020-03-04T09:53:16.580184Z",
     "start_time": "2020-03-04T09:53:16.475367Z"
    }
   },
   "outputs": [],
   "source": [
    "#export main\n",
    "from math import floor, pi\n",
    "import numpy as np\n",
    "from BaseClass import BaseClass, saveValues, loadValues"
   ]
  },
  {
   "cell_type": "markdown",
   "metadata": {},
   "source": [
    "__Here is the link:__ [**utils**](/notebooks/Desktop/Arbeit/osm2xodrJupyter/00_utils.ipynb)"
   ]
  },
  {
   "cell_type": "markdown",
   "metadata": {},
   "source": [
    "__Here is the link:__ [**creation and testing of Curves**](/notebooks/Desktop/Arbeit/osm2xodrJupyter/01_curveCreation.ipynb)"
   ]
  },
  {
   "cell_type": "code",
   "execution_count": null,
   "metadata": {
    "ExecuteTime": {
     "end_time": "2020-03-04T11:26:30.985881Z",
     "start_time": "2020-03-04T11:26:30.884518Z"
    },
    "run_control": {
     "marked": true
    }
   },
   "outputs": [],
   "source": [
    "from osm2xods.arcCurves import giveHeading,getArcEndposition,distance,schnittpunkt,getArcCurvatureAndLength,getXYPositionFromLineLength,getArcCurvatureAndLength2Point,endTurn2LaneStreet"
   ]
  },
  {
   "cell_type": "markdown",
   "metadata": {},
   "source": [
    "__Here is the link:__ [**parsing the osm-file**](/notebooks/Desktop/Arbeit/osm2xodrJupyter/02_parsing.ipynb)"
   ]
  },
  {
   "cell_type": "markdown",
   "metadata": {},
   "source": [
    "__Here is the link:__ [**writing the xodr-file**](/notebooks/Desktop/Arbeit/osm2xodrJupyter/03_xodrwriting.ipynb)"
   ]
  },
  {
   "cell_type": "code",
   "execution_count": null,
   "metadata": {},
   "outputs": [],
   "source": []
  },
  {
   "cell_type": "code",
   "execution_count": null,
   "metadata": {},
   "outputs": [],
   "source": []
  },
  {
   "cell_type": "code",
   "execution_count": 1,
   "metadata": {
    "ExecuteTime": {
     "end_time": "2020-03-10T13:11:03.891509Z",
     "start_time": "2020-03-10T13:11:02.936453Z"
    },
    "run_control": {
     "marked": false
    }
   },
   "outputs": [
    {
     "name": "stdout",
     "output_type": "stream",
     "text": [
      "minlon = 7.1584828,minlat= 51.2377326,maxlon = 7.1652904,maxlat = 51.2406203\n"
     ]
    }
   ],
   "source": [
    "#export main\n",
    "from math import floor, pi\n",
    "import numpy as np\n",
    "from osm2xods.testing import TestEntity, _test_nodes, testSimpleRoad, test_3WayTCrossing2\n",
    "from osm2xods.osmParsing import parseAll,rNode, OSMWay,JunctionRoad, OSMWayEndcap, createOSMJunctionRoadLine, createOSMWayNodeList2XODRRoadLine\n",
    "from osm2xods.xodrWriting import startBasicXODRFile,fillNormalRoads,fillJunctionRoads\n",
    "\n",
    "osmPfad = '/home/jhm/Downloads/campusFreudenbergEinheitlich.osm'\n",
    "topographieKartenPfad = '/home/jhm/Downloads/campusTerrain.png'\n",
    "outputPfad = '/home/jhm/Downloads/outTest.xodr'\n",
    "\n",
    "parseAll(osmPfad, bildpfad=topographieKartenPfad, minimumHeight = 163.0, maximumHeight= 192.0, curveRadius=6)\n",
    "startBasicXODRFile(outputPfad)\n",
    "fillNormalRoads(outputPfad)\n",
    "fillJunctionRoads(outputPfad)\n",
    "\n",
    "        "
   ]
  },
  {
   "cell_type": "code",
   "execution_count": null,
   "metadata": {},
   "outputs": [],
   "source": []
  },
  {
   "cell_type": "code",
   "execution_count": null,
   "metadata": {},
   "outputs": [],
   "source": []
  },
  {
   "cell_type": "code",
   "execution_count": null,
   "metadata": {},
   "outputs": [],
   "source": []
  },
  {
   "cell_type": "code",
   "execution_count": null,
   "metadata": {},
   "outputs": [],
   "source": []
  },
  {
   "cell_type": "code",
   "execution_count": null,
   "metadata": {
    "ExecuteTime": {
     "end_time": "2020-03-10T13:10:50.280625Z",
     "start_time": "2020-03-10T13:10:50.097197Z"
    }
   },
   "outputs": [],
   "source": [
    "from nbdev.export import *\n",
    "#clear the code\n",
    "with open(\"osm2xods/main.py\", \"w\") as f:\n",
    "    f.writelines(\"__all__ = []\")\n",
    "with open(\"osm2xods/arcCurves.py\", \"w\") as f:\n",
    "    f.writelines(\"__all__ = []\")\n",
    "with open(\"osm2xods/osmParsing.py\", \"w\") as f:\n",
    "    f.writelines(\"__all__ = []\")\n",
    "with open(\"osm2xods/odrWriting.py\", \"w\") as f:\n",
    "    f.writelines(\"__all__ = []\")\n",
    "with open(\"osm2xods/utils.py\", \"w\") as f:\n",
    "    f.writelines(\"__all__ = []\")\n",
    "with open(\"osm2xods/testing.py\", \"w\") as f:\n",
    "    f.writelines(\"__all__ = []\")\n",
    "notebook2script()"
   ]
  },
  {
   "cell_type": "code",
   "execution_count": null,
   "metadata": {
    "ExecuteTime": {
     "end_time": "2019-12-20T14:55:45.927041Z",
     "start_time": "2019-12-20T14:55:45.915332Z"
    }
   },
   "outputs": [],
   "source": [
    "\n"
   ]
  },
  {
   "cell_type": "code",
   "execution_count": null,
   "metadata": {
    "ExecuteTime": {
     "end_time": "2020-01-10T08:54:00.218373Z",
     "start_time": "2020-01-10T08:54:00.151151Z"
    },
    "run_control": {
     "marked": true
    }
   },
   "outputs": [],
   "source": [
    "#import nbdev\n",
    "#nbdev.sync.script2notebook(fname='primaryCaps.py')"
   ]
  },
  {
   "cell_type": "code",
   "execution_count": null,
   "metadata": {},
   "outputs": [],
   "source": []
  }
 ],
 "metadata": {
  "kernelspec": {
   "display_name": "Python 3",
   "language": "python",
   "name": "python3"
  },
  "language_info": {
   "codemirror_mode": {
    "name": "ipython",
    "version": 3
   },
   "file_extension": ".py",
   "mimetype": "text/x-python",
   "name": "python",
   "nbconvert_exporter": "python",
   "pygments_lexer": "ipython3",
   "version": "3.6.9"
  },
  "latex_envs": {
   "LaTeX_envs_menu_present": true,
   "autoclose": false,
   "autocomplete": true,
   "bibliofile": "biblio.bib",
   "cite_by": "apalike",
   "current_citInitial": 1,
   "eqLabelWithNumbers": true,
   "eqNumInitial": 1,
   "hotkeys": {
    "equation": "Ctrl-E",
    "itemize": "Ctrl-I"
   },
   "labels_anchors": false,
   "latex_user_defs": false,
   "report_style_numbering": false,
   "user_envs_cfg": false
  },
  "toc": {
   "base_numbering": 1,
   "nav_menu": {},
   "number_sections": true,
   "sideBar": true,
   "skip_h1_title": false,
   "title_cell": "Table of Contents",
   "title_sidebar": "Contents",
   "toc_cell": false,
   "toc_position": {},
   "toc_section_display": true,
   "toc_window_display": false
  }
 },
 "nbformat": 4,
 "nbformat_minor": 2
}
